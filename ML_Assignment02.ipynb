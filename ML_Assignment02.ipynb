{
  "nbformat": 4,
  "nbformat_minor": 0,
  "metadata": {
    "colab": {
      "provenance": []
    },
    "kernelspec": {
      "name": "python3",
      "display_name": "Python 3"
    },
    "language_info": {
      "name": "python"
    }
  },
  "cells": [
    {
      "cell_type": "code",
      "execution_count": null,
      "metadata": {
        "colab": {
          "base_uri": "https://localhost:8080/"
        },
        "id": "2CoSX66317YU",
        "outputId": "23515c1c-80ff-41fc-e06f-0dc369a9ab5b"
      },
      "outputs": [
        {
          "output_type": "stream",
          "name": "stdout",
          "text": [
            "\r\n",
            "* \r\n",
            "* * \r\n",
            "* * * \r\n",
            "* * * * \r\n",
            "* * * * * \r\n",
            "* * * * \r\n",
            "* * * \r\n",
            "* * \r\n",
            "* \r\n"
          ]
        }
      ],
      "source": [
        "for i in range(1,6):\n",
        "  for j in range(1,i):\n",
        "    print(\"*\",end=' ')\n",
        "  print(\"\\r\")\n",
        "for i in range(6,1,-1):\n",
        "  for j in range(1,i):\n",
        "    print(\"*\",end=' ')\n",
        "  print(\"\\r\")\n"
      ]
    },
    {
      "cell_type": "code",
      "source": [
        "my_list = [10, 20, 30, 40, 50, 60, 70, 80, 90, 100]\n",
        "for i in range(1,len(my_list),2):\n",
        "  print(my_list[i])"
      ],
      "metadata": {
        "colab": {
          "base_uri": "https://localhost:8080/"
        },
        "id": "9-au_qY52_Hy",
        "outputId": "12ea6c3a-4519-46fb-84b7-c9858415a856"
      },
      "execution_count": null,
      "outputs": [
        {
          "output_type": "stream",
          "name": "stdout",
          "text": [
            "20\n",
            "40\n",
            "60\n",
            "80\n",
            "100\n"
          ]
        }
      ]
    },
    {
      "cell_type": "code",
      "source": [
        "x=[23,'python',23.98]\n",
        "types=[]\n",
        "for i in x:\n",
        "    types.append(type(i))\n",
        "print(x)\n",
        "print(types)"
      ],
      "metadata": {
        "colab": {
          "base_uri": "https://localhost:8080/"
        },
        "id": "Dhv2mLO03r-L",
        "outputId": "38abe083-20fa-4ef8-ecef-ad59bad1ed8f"
      },
      "execution_count": null,
      "outputs": [
        {
          "output_type": "stream",
          "name": "stdout",
          "text": [
            "[23, 'python', 23.98]\n",
            "[<class 'int'>, <class 'str'>, <class 'float'>]\n"
          ]
        }
      ]
    },
    {
      "cell_type": "code",
      "source": [
        "sample_list=[1,2,3,3,3,3,4,5]\n",
        "unique_list=[]\n",
        "for i in sample_list:\n",
        "  if i not in unique_list:\n",
        "    unique_list.append(i)\n",
        "print(sample_list)\n",
        "print(unique_list)"
      ],
      "metadata": {
        "colab": {
          "base_uri": "https://localhost:8080/"
        },
        "id": "fuC7u_8b5T2J",
        "outputId": "1941381b-cc72-4db7-bf35-82cd6ffe1d3c"
      },
      "execution_count": null,
      "outputs": [
        {
          "output_type": "stream",
          "name": "stdout",
          "text": [
            "[1, 2, 3, 3, 3, 3, 4, 5]\n",
            "[1, 2, 3, 4, 5]\n"
          ]
        }
      ]
    },
    {
      "cell_type": "code",
      "source": [
        "\n",
        "def count_case(string):\n",
        "  upper_case=0\n",
        "  lower_case=0\n",
        "  for char in string:\n",
        "    if char.isupper():\n",
        "      upper_case=upper_case+1\n",
        "    elif char.islower():\n",
        "      lower_case=lower_case+1\n",
        "  return upper_case,lower_case\n",
        "s1='The quick Brow Fox'\n",
        "upper_case,lower_case=count_case(s1)\n",
        "print(\"No.of Upper-case characters:\",upper_case)\n",
        "print(\"No.of Lower-case characters:\",lower_case)\n",
        "\n",
        "\n",
        "\n",
        "\n"
      ],
      "metadata": {
        "colab": {
          "base_uri": "https://localhost:8080/"
        },
        "id": "DUBz6a-36A67",
        "outputId": "b76cd382-e3af-481f-d4a4-f2056ec1c38e"
      },
      "execution_count": null,
      "outputs": [
        {
          "output_type": "stream",
          "name": "stdout",
          "text": [
            "No.of Upper-case characters: 3\n",
            "No.of Lower-case characters: 12\n"
          ]
        }
      ]
    }
  ]
}